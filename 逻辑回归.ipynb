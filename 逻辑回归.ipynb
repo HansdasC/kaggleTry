{
 "cells": [
  {
   "cell_type": "markdown",
   "id": "21ae8032",
   "metadata": {},
   "source": [
    "# 逻辑回归"
   ]
  },
  {
   "cell_type": "markdown",
   "id": "9763a58b",
   "metadata": {},
   "source": [
    "## 1.建立数据集"
   ]
  },
  {
   "cell_type": "markdown",
   "id": "b9f5ffa7",
   "metadata": {},
   "source": [
    "### 1.1 生成数据集"
   ]
  },
  {
   "cell_type": "code",
   "execution_count": 1,
   "id": "dc7cb51e",
   "metadata": {},
   "outputs": [],
   "source": [
    "from collections import OrderedDict\n",
    "import pandas as pd"
   ]
  },
  {
   "cell_type": "code",
   "execution_count": 2,
   "id": "ff101c1f",
   "metadata": {},
   "outputs": [],
   "source": [
    "#数据集\n",
    "examDict={\n",
    "    '学习时间':[0.50,0.75,1.00,1.25,1.50,1.75,1.75,2.00,2.25,2.50,\n",
    "            2.75,3.00,3.25,3.50,4.00,4.25,4.50,4.75,5.00,5.50],\n",
    "    '通过考试':[0,0,0,0,0,0,1,0,1,0,1,0,1,0,1,1,1,1,1,1]\n",
    "}\n",
    "examOrderDict=OrderedDict(examDict)\n",
    "examDf=pd.DataFrame(examOrderDict)"
   ]
  },
  {
   "cell_type": "code",
   "execution_count": 3,
   "id": "4a4ecf35",
   "metadata": {},
   "outputs": [
    {
     "data": {
      "text/html": [
       "<div>\n",
       "<style scoped>\n",
       "    .dataframe tbody tr th:only-of-type {\n",
       "        vertical-align: middle;\n",
       "    }\n",
       "\n",
       "    .dataframe tbody tr th {\n",
       "        vertical-align: top;\n",
       "    }\n",
       "\n",
       "    .dataframe thead th {\n",
       "        text-align: right;\n",
       "    }\n",
       "</style>\n",
       "<table border=\"1\" class=\"dataframe\">\n",
       "  <thead>\n",
       "    <tr style=\"text-align: right;\">\n",
       "      <th></th>\n",
       "      <th>学习时间</th>\n",
       "      <th>通过考试</th>\n",
       "    </tr>\n",
       "  </thead>\n",
       "  <tbody>\n",
       "    <tr>\n",
       "      <th>0</th>\n",
       "      <td>0.50</td>\n",
       "      <td>0</td>\n",
       "    </tr>\n",
       "    <tr>\n",
       "      <th>1</th>\n",
       "      <td>0.75</td>\n",
       "      <td>0</td>\n",
       "    </tr>\n",
       "    <tr>\n",
       "      <th>2</th>\n",
       "      <td>1.00</td>\n",
       "      <td>0</td>\n",
       "    </tr>\n",
       "    <tr>\n",
       "      <th>3</th>\n",
       "      <td>1.25</td>\n",
       "      <td>0</td>\n",
       "    </tr>\n",
       "    <tr>\n",
       "      <th>4</th>\n",
       "      <td>1.50</td>\n",
       "      <td>0</td>\n",
       "    </tr>\n",
       "  </tbody>\n",
       "</table>\n",
       "</div>"
      ],
      "text/plain": [
       "   学习时间  通过考试\n",
       "0  0.50     0\n",
       "1  0.75     0\n",
       "2  1.00     0\n",
       "3  1.25     0\n",
       "4  1.50     0"
      ]
     },
     "execution_count": 3,
     "metadata": {},
     "output_type": "execute_result"
    }
   ],
   "source": [
    "examDf.head()"
   ]
  },
  {
   "cell_type": "markdown",
   "id": "e561837e",
   "metadata": {},
   "source": [
    "### 1.2 提取特征与标签"
   ]
  },
  {
   "cell_type": "code",
   "execution_count": 4,
   "id": "9ff6a325",
   "metadata": {},
   "outputs": [],
   "source": [
    "#特征features\n",
    "exam_X=examDf.loc[:,'学习时间']\n",
    "#标签labes\n",
    "exam_Y=examDf.loc[:,'通过考试']"
   ]
  },
  {
   "cell_type": "markdown",
   "id": "353bfa87",
   "metadata": {},
   "source": [
    "### 1.3 绘制散点图"
   ]
  },
  {
   "cell_type": "code",
   "execution_count": 5,
   "id": "86f1ba40",
   "metadata": {},
   "outputs": [
    {
     "data": {
      "image/png": "[encoded data removed]",
      "text/plain": [
       "<Figure size 432x288 with 1 Axes>"
      ]
     },
     "metadata": {
      "needs_background": "light"
     },
     "output_type": "display_data"
    }
   ],
   "source": [
    "import matplotlib.pyplot as plt\n",
    "\n",
    "#散点图\n",
    "plt.scatter(exam_X, exam_Y, color=\"b\", label=\"exam data\")\n",
    "\n",
    "# 添加图标标签\n",
    "plt.xlabel(\"Hours\")\n",
    "plt.ylabel(\"Pass\")\n",
    "\n",
    "plt.show()"
   ]
  },
  {
   "cell_type": "markdown",
   "id": "7408b2c2",
   "metadata": {},
   "source": [
    "## 2.建立训练数据集和测试数据集\n",
    "train_test_split是交叉验证中常用的函数，功能是从样本中随机的按比例选取训练数据（train）和测试数据（test）  \n",
    "第1个参数：所要划分的样本特征  \n",
    "第2个参数：所要划分的样本标签  \n",
    "train_size：训练数据占比，如果是整数的话就是样本的数量"
   ]
  },
  {
   "cell_type": "markdown",
   "id": "f3061f6b",
   "metadata": {},
   "source": [
    "### 2.1 划分数据集"
   ]
  },
  {
   "cell_type": "code",
   "execution_count": 6,
   "id": "5506ffd6",
   "metadata": {},
   "outputs": [
    {
     "name": "stdout",
     "output_type": "stream",
     "text": [
      "原始数据特征： (20,) ，训练数据特征： (16,) ，测试数据特征： (4,)\n",
      "原始数据标签： (20,) 训练数据标签： (16,) 测试数据标签： (4,)\n"
     ]
    }
   ],
   "source": [
    "from sklearn.model_selection import train_test_split\n",
    "\n",
    "X_train, X_test, Y_train, Y_test = train_test_split(exam_X, exam_Y, train_size= .8)\n",
    "\n",
    "#输出数据大小\n",
    "print('原始数据特征：',exam_X.shape ,\n",
    "      '，训练数据特征：', X_train.shape , \n",
    "      '，测试数据特征：',X_test.shape )\n",
    "\n",
    "print('原始数据标签：',exam_Y.shape ,\n",
    "      '训练数据标签：', Y_train.shape ,\n",
    "      '测试数据标签：' ,Y_test.shape)"
   ]
  },
  {
   "cell_type": "markdown",
   "id": "9f2abbac",
   "metadata": {},
   "source": [
    "### 2.2 绘制散点图"
   ]
  },
  {
   "cell_type": "code",
   "execution_count": 9,
   "id": "0d15fd93",
   "metadata": {},
   "outputs": [
    {
     "data": {
      "image/png": "[encoded data removed]",
      "text/plain": [
       "<Figure size 432x288 with 1 Axes>"
      ]
     },
     "metadata": {
      "needs_background": "light"
     },
     "output_type": "display_data"
    }
   ],
   "source": [
    "import matplotlib.pyplot as plt\n",
    "\n",
    "plt.scatter(X_train, Y_train, color=\"blue\", label=\"train data\")\n",
    "plt.scatter(X_test, Y_test, color=\"red\", label=\"test data\")\n",
    "\n",
    "plt.legend(loc=2)\n",
    "plt.xlabel(\"Hours\")\n",
    "plt.ylabel(\"Pass\")\n",
    "plt.show()"
   ]
  },
  {
   "cell_type": "markdown",
   "id": "51be84c5",
   "metadata": {},
   "source": [
    "## 3.训练模型（使用训练数据）"
   ]
  },
  {
   "cell_type": "code",
   "execution_count": 14,
   "id": "0628f3ae",
   "metadata": {},
   "outputs": [
    {
     "data": {
      "text/plain": [
       "LogisticRegression()"
      ]
     },
     "execution_count": 14,
     "metadata": {},
     "output_type": "execute_result"
    }
   ],
   "source": [
    "'''\n",
    "sklearn要求输入的特征必须是二维数组的类型，但是因为我们目前只有1个特征，所以需要用安装错误提示用reshape转行成二维数组的类型。\n",
    "'''\n",
    "X_train = X_train.reshape(-1, 1)\n",
    "X_test = X_test.reshape(-1, 1)\n",
    "\n",
    "# 导入逻辑回归包\n",
    "from sklearn.linear_model import LogisticRegression\n",
    "# 创建模型：逻辑回归\n",
    "model = LogisticRegression()\n",
    "# 训练模型\n",
    "model.fit(X_train, Y_train)"
   ]
  },
  {
   "cell_type": "markdown",
   "id": "fdd51088",
   "metadata": {},
   "source": [
    "## 4.模型评估"
   ]
  },
  {
   "cell_type": "markdown",
   "id": "8ed32855",
   "metadata": {},
   "source": [
    "### 4.1 评估模型：准确率"
   ]
  },
  {
   "cell_type": "code",
   "execution_count": 15,
   "id": "7cdc15df",
   "metadata": {},
   "outputs": [
    {
     "data": {
      "text/plain": [
       "0.5"
      ]
     },
     "execution_count": 15,
     "metadata": {},
     "output_type": "execute_result"
    }
   ],
   "source": [
    "\n",
    "model.score(X_test, Y_test)"
   ]
  },
  {
   "cell_type": "markdown",
   "id": "7b202ce6",
   "metadata": {},
   "source": [
    "### 4.2 获得概率值\n",
    "第1个值是标签为0的概率值，第2个值是标签为1的概率值"
   ]
  },
  {
   "cell_type": "code",
   "execution_count": 18,
   "id": "4f1f3b0e",
   "metadata": {},
   "outputs": [
    {
     "data": {
      "text/plain": [
       "array([[0.51960214, 0.48039786]])"
      ]
     },
     "execution_count": 18,
     "metadata": {},
     "output_type": "execute_result"
    }
   ],
   "source": [
    "model.predict_proba([[3]])"
   ]
  },
  {
   "cell_type": "markdown",
   "id": "15c2da7f",
   "metadata": {},
   "source": [
    "### 4.3 预测数据：\n",
    "使用模型的predict方法可以进行预测。  \n",
    "这里我们输入学生的特征学习时间3小时，模型返回结果标签是1，表示预测该学生通过考试。"
   ]
  },
  {
   "cell_type": "code",
   "execution_count": 19,
   "id": "f73267f2",
   "metadata": {},
   "outputs": [
    {
     "name": "stdout",
     "output_type": "stream",
     "text": [
      "[0]\n"
     ]
    }
   ],
   "source": [
    "pred=model.predict([[3]])\n",
    "print(pred)"
   ]
  },
  {
   "cell_type": "markdown",
   "id": "43e9f052",
   "metadata": {},
   "source": [
    "## * 理解逻辑回归函数"
   ]
  },
  {
   "cell_type": "markdown",
   "id": "990ee731",
   "metadata": {},
   "source": [
    "### *.1 得到回归方程的z值\n",
    "回归方程: $z=a+b$"
   ]
  },
  {
   "cell_type": "code",
   "execution_count": 21,
   "id": "a9bf0c1d",
   "metadata": {},
   "outputs": [],
   "source": [
    "#截距\n",
    "a=model.intercept_\n",
    "#回归系数\n",
    "b=model.coef_\n",
    "\n",
    "x=3\n",
    "z=a+b*x"
   ]
  },
  {
   "cell_type": "markdown",
   "id": "fe44d53f",
   "metadata": {},
   "source": [
    "### *.2: 将z值带入逻辑回归函数中，得到概率值。\n",
    "逻辑回归函数：\n",
    "$$\n",
    "\\frac{1}{1+e^{-z}}\n",
    "$$"
   ]
  },
  {
   "cell_type": "code",
   "execution_count": 23,
   "id": "30ccb79f",
   "metadata": {},
   "outputs": [
    {
     "name": "stdout",
     "output_type": "stream",
     "text": [
      "预测的概率值： [[0.48039786]]\n"
     ]
    }
   ],
   "source": [
    "import numpy as np\n",
    "y_pred=1/(1+np.exp(-z))\n",
    "print('预测的概率值：',y_pred)"
   ]
  }
 ],
 "metadata": {
  "kernelspec": {
   "display_name": "Python 3 (ipykernel)",
   "language": "python",
   "name": "python3"
  },
  "language_info": {
   "codemirror_mode": {
    "name": "ipython",
    "version": 3
   },
   "file_extension": ".py",
   "mimetype": "text/x-python",
   "name": "python",
   "nbconvert_exporter": "python",
   "pygments_lexer": "ipython3",
   "version": "3.9.7"
  }
 },
 "nbformat": 4,
 "nbformat_minor": 5
}
