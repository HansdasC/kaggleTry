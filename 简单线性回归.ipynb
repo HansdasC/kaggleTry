{
 "cells": [
  {
   "cell_type": "markdown",
   "id": "e76d7a87",
   "metadata": {},
   "source": [
    "# 简单线性回归\n",
    "\n",
    "小陈 2022.11.25"
   ]
  },
  {
   "cell_type": "markdown",
   "id": "38f5fdaf",
   "metadata": {},
   "source": [
    "## 1 建立数据集"
   ]
  },
  {
   "cell_type": "code",
   "execution_count": 1,
   "id": "764aefcb",
   "metadata": {},
   "outputs": [],
   "source": [
    "from collections import OrderedDict\n",
    "import pandas as pd"
   ]
  },
  {
   "cell_type": "markdown",
   "id": "7e09d7f8",
   "metadata": {},
   "source": [
    "### 数据集"
   ]
  },
  {
   "cell_type": "code",
   "execution_count": 2,
   "id": "d0ebad51",
   "metadata": {},
   "outputs": [],
   "source": [
    "examDict={\n",
    "    '学习时间':[0.50,0.75,1.00,1.25,1.50,1.75,1.75,2.00,2.25,\n",
    "            2.50,2.75,3.00,3.25,3.50,4.00,4.25,4.50,4.75,5.00,5.50],\n",
    "    '分数':    [10,  22,  13,  43,  20,  22,  33,  50,  62,  \n",
    "              48,  55,  75,  62,  73,  81,  76,  64,  82,  90,  93]\n",
    "}\n",
    "examOrderDict = OrderedDict(examDict) \n",
    "# print(examDict)\n",
    "# print(examOrderDict)"
   ]
  },
  {
   "cell_type": "code",
   "execution_count": 3,
   "id": "0bc3c95e",
   "metadata": {},
   "outputs": [],
   "source": [
    "examDf = pd.DataFrame(examOrderDict)"
   ]
  },
  {
   "cell_type": "markdown",
   "id": "b6b75ce3",
   "metadata": {},
   "source": [
    "查看数据集前5行"
   ]
  },
  {
   "cell_type": "code",
   "execution_count": 4,
   "id": "ce76292b",
   "metadata": {},
   "outputs": [
    {
     "data": {
      "text/html": [
       "<div>\n",
       "<style scoped>\n",
       "    .dataframe tbody tr th:only-of-type {\n",
       "        vertical-align: middle;\n",
       "    }\n",
       "\n",
       "    .dataframe tbody tr th {\n",
       "        vertical-align: top;\n",
       "    }\n",
       "\n",
       "    .dataframe thead th {\n",
       "        text-align: right;\n",
       "    }\n",
       "</style>\n",
       "<table border=\"1\" class=\"dataframe\">\n",
       "  <thead>\n",
       "    <tr style=\"text-align: right;\">\n",
       "      <th></th>\n",
       "      <th>学习时间</th>\n",
       "      <th>分数</th>\n",
       "    </tr>\n",
       "  </thead>\n",
       "  <tbody>\n",
       "    <tr>\n",
       "      <th>0</th>\n",
       "      <td>0.50</td>\n",
       "      <td>10</td>\n",
       "    </tr>\n",
       "    <tr>\n",
       "      <th>1</th>\n",
       "      <td>0.75</td>\n",
       "      <td>22</td>\n",
       "    </tr>\n",
       "    <tr>\n",
       "      <th>2</th>\n",
       "      <td>1.00</td>\n",
       "      <td>13</td>\n",
       "    </tr>\n",
       "    <tr>\n",
       "      <th>3</th>\n",
       "      <td>1.25</td>\n",
       "      <td>43</td>\n",
       "    </tr>\n",
       "    <tr>\n",
       "      <th>4</th>\n",
       "      <td>1.50</td>\n",
       "      <td>20</td>\n",
       "    </tr>\n",
       "  </tbody>\n",
       "</table>\n",
       "</div>"
      ],
      "text/plain": [
       "   学习时间  分数\n",
       "0  0.50  10\n",
       "1  0.75  22\n",
       "2  1.00  13\n",
       "3  1.25  43\n",
       "4  1.50  20"
      ]
     },
     "execution_count": 4,
     "metadata": {},
     "output_type": "execute_result"
    }
   ],
   "source": [
    "examDf.head()"
   ]
  },
  {
   "cell_type": "markdown",
   "id": "7722febe",
   "metadata": {},
   "source": [
    "## 2 相关系数：两个变量每单位的相关性程度"
   ]
  },
  {
   "cell_type": "markdown",
   "id": "f825f038",
   "metadata": {},
   "source": [
    "提取特征与标签"
   ]
  },
  {
   "cell_type": "code",
   "execution_count": 5,
   "id": "8c935e82",
   "metadata": {},
   "outputs": [
    {
     "name": "stdout",
     "output_type": "stream",
     "text": [
      "0     0.50\n",
      "1     0.75\n",
      "2     1.00\n",
      "3     1.25\n",
      "4     1.50\n",
      "5     1.75\n",
      "6     1.75\n",
      "7     2.00\n",
      "8     2.25\n",
      "9     2.50\n",
      "10    2.75\n",
      "11    3.00\n",
      "12    3.25\n",
      "13    3.50\n",
      "14    4.00\n",
      "15    4.25\n",
      "16    4.50\n",
      "17    4.75\n",
      "18    5.00\n",
      "19    5.50\n",
      "Name: 学习时间, dtype: float64\n",
      "0     10\n",
      "1     22\n",
      "2     13\n",
      "3     43\n",
      "4     20\n",
      "5     22\n",
      "6     33\n",
      "7     50\n",
      "8     62\n",
      "9     48\n",
      "10    55\n",
      "11    75\n",
      "12    62\n",
      "13    73\n",
      "14    81\n",
      "15    76\n",
      "16    64\n",
      "17    82\n",
      "18    90\n",
      "19    93\n",
      "Name: 分数, dtype: int64\n"
     ]
    }
   ],
   "source": [
    "#特征features\n",
    "exam_X=examDf.loc[:,'学习时间']\n",
    "#标签labes\n",
    "exam_Y=examDf.loc[:,'分数']\n",
    "print(exam_X)\n",
    "print(exam_Y)"
   ]
  },
  {
   "cell_type": "markdown",
   "id": "65ca2acd",
   "metadata": {},
   "source": [
    "绘制散点图"
   ]
  },
  {
   "cell_type": "code",
   "execution_count": 7,
   "id": "602e1531",
   "metadata": {},
   "outputs": [
    {
     "data": {
      "image/png": "[encoded data removed]",
      "text/plain": [
       "<Figure size 432x288 with 1 Axes>"
      ]
     },
     "metadata": {
      "needs_background": "light"
     },
     "output_type": "display_data"
    }
   ],
   "source": [
    "import matplotlib.pyplot as plt\n",
    "\n",
    "# 散点图\n",
    "plt.scatter(exam_X, exam_Y, color=\"b\", label=\"exam data\")\n",
    "\n",
    "plt.xlabel(\"Hours\")\n",
    "plt.ylabel(\"Score\")\n",
    "\n",
    "plt.show()"
   ]
  },
  {
   "cell_type": "markdown",
   "id": "f98a4a6f",
   "metadata": {},
   "source": [
    "相关系数：corr返回结果是一个数据框，存放的是相关系数矩阵"
   ]
  },
  {
   "cell_type": "code",
   "execution_count": 8,
   "id": "f2c8d720",
   "metadata": {},
   "outputs": [
    {
     "name": "stdout",
     "output_type": "stream",
     "text": [
      "相关系数：\n"
     ]
    },
    {
     "data": {
      "text/html": [
       "<div>\n",
       "<style scoped>\n",
       "    .dataframe tbody tr th:only-of-type {\n",
       "        vertical-align: middle;\n",
       "    }\n",
       "\n",
       "    .dataframe tbody tr th {\n",
       "        vertical-align: top;\n",
       "    }\n",
       "\n",
       "    .dataframe thead th {\n",
       "        text-align: right;\n",
       "    }\n",
       "</style>\n",
       "<table border=\"1\" class=\"dataframe\">\n",
       "  <thead>\n",
       "    <tr style=\"text-align: right;\">\n",
       "      <th></th>\n",
       "      <th>学习时间</th>\n",
       "      <th>分数</th>\n",
       "    </tr>\n",
       "  </thead>\n",
       "  <tbody>\n",
       "    <tr>\n",
       "      <th>学习时间</th>\n",
       "      <td>1.000000</td>\n",
       "      <td>0.923985</td>\n",
       "    </tr>\n",
       "    <tr>\n",
       "      <th>分数</th>\n",
       "      <td>0.923985</td>\n",
       "      <td>1.000000</td>\n",
       "    </tr>\n",
       "  </tbody>\n",
       "</table>\n",
       "</div>"
      ],
      "text/plain": [
       "          学习时间        分数\n",
       "学习时间  1.000000  0.923985\n",
       "分数    0.923985  1.000000"
      ]
     },
     "execution_count": 8,
     "metadata": {},
     "output_type": "execute_result"
    }
   ],
   "source": [
    "rDf = examDf.corr()\n",
    "print(\"相关系数：\")\n",
    "rDf"
   ]
  },
  {
   "cell_type": "markdown",
   "id": "7e2b33cc",
   "metadata": {},
   "source": [
    "通过以下游戏，熟悉和理解相关系数：\n",
    "1）此页面允许你使用滑块来更改相关系数，直观了解点的二维分布和相关系数大小，看看数据会如何呈现。\n",
    "相关性（长按此处可以复制）：http://rpsychologist.com/d3/correlation/\n",
    "\n",
    "2）猜测相关性的游戏，给出散点图，然后猜测两个变量的相关性系数。别一看这些乱乱的点就没有玩的兴趣了，其实玩起来还是很上瘾的。\n",
    "关键还得多玩几次找找感觉（长按此处可以复制）：\n",
    "http://istics.net/Correlations/\n",
    "\n",
    "3）参考资料《描述统计学》：https://www.zhihu.com/lives/916699160831483904"
   ]
  },
  {
   "cell_type": "markdown",
   "id": "569cb94a",
   "metadata": {},
   "source": [
    "## 线性回归的实现"
   ]
  },
  {
   "cell_type": "markdown",
   "id": "1e3ca7f0",
   "metadata": {},
   "source": [
    "### 1.提取特征和标签 "
   ]
  },
  {
   "cell_type": "code",
   "execution_count": 9,
   "id": "5a5af93f",
   "metadata": {},
   "outputs": [
    {
     "name": "stdout",
     "output_type": "stream",
     "text": [
      "0     0.50\n",
      "1     0.75\n",
      "2     1.00\n",
      "3     1.25\n",
      "4     1.50\n",
      "5     1.75\n",
      "6     1.75\n",
      "7     2.00\n",
      "8     2.25\n",
      "9     2.50\n",
      "10    2.75\n",
      "11    3.00\n",
      "12    3.25\n",
      "13    3.50\n",
      "14    4.00\n",
      "15    4.25\n",
      "16    4.50\n",
      "17    4.75\n",
      "18    5.00\n",
      "19    5.50\n",
      "Name: 学习时间, dtype: float64\n",
      "0     10\n",
      "1     22\n",
      "2     13\n",
      "3     43\n",
      "4     20\n",
      "5     22\n",
      "6     33\n",
      "7     50\n",
      "8     62\n",
      "9     48\n",
      "10    55\n",
      "11    75\n",
      "12    62\n",
      "13    73\n",
      "14    81\n",
      "15    76\n",
      "16    64\n",
      "17    82\n",
      "18    90\n",
      "19    93\n",
      "Name: 分数, dtype: int64\n"
     ]
    }
   ],
   "source": [
    "#特征features\n",
    "exam_X=examDf.loc[:,'学习时间']\n",
    "#标签labes\n",
    "exam_Y=examDf.loc[:,'分数']\n",
    "print(exam_X)\n",
    "print(exam_Y)"
   ]
  },
  {
   "cell_type": "markdown",
   "id": "ee5eec3a",
   "metadata": {},
   "source": [
    "### 2.建立训练数据和测试数据\n",
    "train_test_split是交叉验证中常用的函数，功能是从样本中随机的按比例选取训练数据（train）和测试数据（test）  \n",
    "第1个参数：所要划分的样本特征  \n",
    "第2个参数：所要划分的样本标签  \n",
    "train_size：训练数据占比，如果是整数的话就是样本的数量  "
   ]
  },
  {
   "cell_type": "code",
   "execution_count": 13,
   "id": "26bccdbb",
   "metadata": {},
   "outputs": [
    {
     "name": "stdout",
     "output_type": "stream",
     "text": [
      "原始数据特征： (20,) ，训练数据特征： (16,) ，测试数据特征： (4,)\n",
      "原始数据标签： (20,) 训练数据标签： (16,) 测试数据标签： (4,)\n"
     ]
    }
   ],
   "source": [
    "from sklearn.model_selection import train_test_split\n",
    "\n",
    "#建立训练数据集和测试数据集\n",
    "X_train, X_test, Y_train, Y_test = train_test_split(exam_X, exam_Y, train_size = 0.8)\n",
    "# X_train, X_test, Y_train, Y_test = train_test_split(exam_X, exam_Y, train_size = .8)\n",
    "# X_train, X_test, Y_train, Y_test = train_test_split(exam_X, exam_Y, train_size = 4/5)\n",
    "\n",
    "#输出数据大小\n",
    "print('原始数据特征：',exam_X.shape ,\n",
    "      '，训练数据特征：', X_train.shape , \n",
    "      '，测试数据特征：',X_test.shape )\n",
    "\n",
    "print('原始数据标签：',exam_y.shape ,\n",
    "      '训练数据标签：', Y_train.shape ,\n",
    "      '测试数据标签：' ,Y_test.shape)"
   ]
  },
  {
   "cell_type": "markdown",
   "id": "8aca9d7a",
   "metadata": {},
   "source": [
    "#### 绘制散点图"
   ]
  },
  {
   "cell_type": "code",
   "execution_count": 18,
   "id": "e6b7827c",
   "metadata": {
    "scrolled": true
   },
   "outputs": [
    {
     "data": {
      "image/png": "[encoded data removed]",
      "text/plain": [
       "<Figure size 432x288 with 1 Axes>"
      ]
     },
     "metadata": {
      "needs_background": "light"
     },
     "output_type": "display_data"
    }
   ],
   "source": [
    "import matplotlib.pyplot as plt\n",
    "\n",
    "plt.scatter(X_train, Y_train, color=\"blue\", label=\"train data\")\n",
    "plt.scatter(X_test, Y_test, color=\"red\", label=\"test data\")\n",
    "\n",
    "# 添加图标标签\n",
    "plt.legend(loc=2)\n",
    "plt.xlabel(\"Hours\")\n",
    "plt.ylabel(\"Score\")\n",
    "# 显示图像\n",
    "plt.show()"
   ]
  },
  {
   "cell_type": "markdown",
   "id": "540163ed",
   "metadata": {},
   "source": [
    "### 3.训练模型"
   ]
  },
  {
   "cell_type": "code",
   "execution_count": 19,
   "id": "410dab00",
   "metadata": {},
   "outputs": [
    {
     "ename": "ValueError",
     "evalue": "Expected 2D array, got 1D array instead:\narray=[5.5  0.5  1.75 1.75 5.   4.25 4.75 2.75 1.5  3.   1.   2.25 2.5  4.5\n 3.25 3.5 ].\nReshape your data either using array.reshape(-1, 1) if your data has a single feature or array.reshape(1, -1) if it contains a single sample.",
     "output_type": "error",
     "traceback": [
      "\u001b[0;31m---------------------------------------------------------------------------\u001b[0m",
      "\u001b[0;31mValueError\u001b[0m                                Traceback (most recent call last)",
      "\u001b[0;32m/var/folders/fk/kchcz6690ys8hhzsv387fpfr0000gn/T/ipykernel_53167/1232484316.py\u001b[0m in \u001b[0;36m<module>\u001b[0;34m\u001b[0m\n\u001b[1;32m      4\u001b[0m \u001b[0mmodel\u001b[0m \u001b[0;34m=\u001b[0m \u001b[0mLinearRegression\u001b[0m\u001b[0;34m(\u001b[0m\u001b[0;34m)\u001b[0m\u001b[0;34m\u001b[0m\u001b[0;34m\u001b[0m\u001b[0m\n\u001b[1;32m      5\u001b[0m \u001b[0;31m# 第3步：训练模型\u001b[0m\u001b[0;34m\u001b[0m\u001b[0;34m\u001b[0m\u001b[0m\n\u001b[0;32m----> 6\u001b[0;31m \u001b[0mmodel\u001b[0m\u001b[0;34m.\u001b[0m\u001b[0mfit\u001b[0m\u001b[0;34m(\u001b[0m\u001b[0mX_train\u001b[0m\u001b[0;34m,\u001b[0m \u001b[0mY_train\u001b[0m\u001b[0;34m)\u001b[0m\u001b[0;34m\u001b[0m\u001b[0;34m\u001b[0m\u001b[0m\n\u001b[0m",
      "\u001b[0;32m~/opt/anaconda3/lib/python3.9/site-packages/sklearn/linear_model/_base.py\u001b[0m in \u001b[0;36mfit\u001b[0;34m(self, X, y, sample_weight)\u001b[0m\n\u001b[1;32m    516\u001b[0m         \u001b[0maccept_sparse\u001b[0m \u001b[0;34m=\u001b[0m \u001b[0;32mFalse\u001b[0m \u001b[0;32mif\u001b[0m \u001b[0mself\u001b[0m\u001b[0;34m.\u001b[0m\u001b[0mpositive\u001b[0m \u001b[0;32melse\u001b[0m \u001b[0;34m[\u001b[0m\u001b[0;34m'csr'\u001b[0m\u001b[0;34m,\u001b[0m \u001b[0;34m'csc'\u001b[0m\u001b[0;34m,\u001b[0m \u001b[0;34m'coo'\u001b[0m\u001b[0;34m]\u001b[0m\u001b[0;34m\u001b[0m\u001b[0;34m\u001b[0m\u001b[0m\n\u001b[1;32m    517\u001b[0m \u001b[0;34m\u001b[0m\u001b[0m\n\u001b[0;32m--> 518\u001b[0;31m         X, y = self._validate_data(X, y, accept_sparse=accept_sparse,\n\u001b[0m\u001b[1;32m    519\u001b[0m                                    y_numeric=True, multi_output=True)\n\u001b[1;32m    520\u001b[0m \u001b[0;34m\u001b[0m\u001b[0m\n",
      "\u001b[0;32m~/opt/anaconda3/lib/python3.9/site-packages/sklearn/base.py\u001b[0m in \u001b[0;36m_validate_data\u001b[0;34m(self, X, y, reset, validate_separately, **check_params)\u001b[0m\n\u001b[1;32m    431\u001b[0m                 \u001b[0my\u001b[0m \u001b[0;34m=\u001b[0m \u001b[0mcheck_array\u001b[0m\u001b[0;34m(\u001b[0m\u001b[0my\u001b[0m\u001b[0;34m,\u001b[0m \u001b[0;34m**\u001b[0m\u001b[0mcheck_y_params\u001b[0m\u001b[0;34m)\u001b[0m\u001b[0;34m\u001b[0m\u001b[0;34m\u001b[0m\u001b[0m\n\u001b[1;32m    432\u001b[0m             \u001b[0;32melse\u001b[0m\u001b[0;34m:\u001b[0m\u001b[0;34m\u001b[0m\u001b[0;34m\u001b[0m\u001b[0m\n\u001b[0;32m--> 433\u001b[0;31m                 \u001b[0mX\u001b[0m\u001b[0;34m,\u001b[0m \u001b[0my\u001b[0m \u001b[0;34m=\u001b[0m \u001b[0mcheck_X_y\u001b[0m\u001b[0;34m(\u001b[0m\u001b[0mX\u001b[0m\u001b[0;34m,\u001b[0m \u001b[0my\u001b[0m\u001b[0;34m,\u001b[0m \u001b[0;34m**\u001b[0m\u001b[0mcheck_params\u001b[0m\u001b[0;34m)\u001b[0m\u001b[0;34m\u001b[0m\u001b[0;34m\u001b[0m\u001b[0m\n\u001b[0m\u001b[1;32m    434\u001b[0m             \u001b[0mout\u001b[0m \u001b[0;34m=\u001b[0m \u001b[0mX\u001b[0m\u001b[0;34m,\u001b[0m \u001b[0my\u001b[0m\u001b[0;34m\u001b[0m\u001b[0;34m\u001b[0m\u001b[0m\n\u001b[1;32m    435\u001b[0m \u001b[0;34m\u001b[0m\u001b[0m\n",
      "\u001b[0;32m~/opt/anaconda3/lib/python3.9/site-packages/sklearn/utils/validation.py\u001b[0m in \u001b[0;36minner_f\u001b[0;34m(*args, **kwargs)\u001b[0m\n\u001b[1;32m     61\u001b[0m             \u001b[0mextra_args\u001b[0m \u001b[0;34m=\u001b[0m \u001b[0mlen\u001b[0m\u001b[0;34m(\u001b[0m\u001b[0margs\u001b[0m\u001b[0;34m)\u001b[0m \u001b[0;34m-\u001b[0m \u001b[0mlen\u001b[0m\u001b[0;34m(\u001b[0m\u001b[0mall_args\u001b[0m\u001b[0;34m)\u001b[0m\u001b[0;34m\u001b[0m\u001b[0;34m\u001b[0m\u001b[0m\n\u001b[1;32m     62\u001b[0m             \u001b[0;32mif\u001b[0m \u001b[0mextra_args\u001b[0m \u001b[0;34m<=\u001b[0m \u001b[0;36m0\u001b[0m\u001b[0;34m:\u001b[0m\u001b[0;34m\u001b[0m\u001b[0;34m\u001b[0m\u001b[0m\n\u001b[0;32m---> 63\u001b[0;31m                 \u001b[0;32mreturn\u001b[0m \u001b[0mf\u001b[0m\u001b[0;34m(\u001b[0m\u001b[0;34m*\u001b[0m\u001b[0margs\u001b[0m\u001b[0;34m,\u001b[0m \u001b[0;34m**\u001b[0m\u001b[0mkwargs\u001b[0m\u001b[0;34m)\u001b[0m\u001b[0;34m\u001b[0m\u001b[0;34m\u001b[0m\u001b[0m\n\u001b[0m\u001b[1;32m     64\u001b[0m \u001b[0;34m\u001b[0m\u001b[0m\n\u001b[1;32m     65\u001b[0m             \u001b[0;31m# extra_args > 0\u001b[0m\u001b[0;34m\u001b[0m\u001b[0;34m\u001b[0m\u001b[0m\n",
      "\u001b[0;32m~/opt/anaconda3/lib/python3.9/site-packages/sklearn/utils/validation.py\u001b[0m in \u001b[0;36mcheck_X_y\u001b[0;34m(X, y, accept_sparse, accept_large_sparse, dtype, order, copy, force_all_finite, ensure_2d, allow_nd, multi_output, ensure_min_samples, ensure_min_features, y_numeric, estimator)\u001b[0m\n\u001b[1;32m    869\u001b[0m         \u001b[0;32mraise\u001b[0m \u001b[0mValueError\u001b[0m\u001b[0;34m(\u001b[0m\u001b[0;34m\"y cannot be None\"\u001b[0m\u001b[0;34m)\u001b[0m\u001b[0;34m\u001b[0m\u001b[0;34m\u001b[0m\u001b[0m\n\u001b[1;32m    870\u001b[0m \u001b[0;34m\u001b[0m\u001b[0m\n\u001b[0;32m--> 871\u001b[0;31m     X = check_array(X, accept_sparse=accept_sparse,\n\u001b[0m\u001b[1;32m    872\u001b[0m                     \u001b[0maccept_large_sparse\u001b[0m\u001b[0;34m=\u001b[0m\u001b[0maccept_large_sparse\u001b[0m\u001b[0;34m,\u001b[0m\u001b[0;34m\u001b[0m\u001b[0;34m\u001b[0m\u001b[0m\n\u001b[1;32m    873\u001b[0m                     \u001b[0mdtype\u001b[0m\u001b[0;34m=\u001b[0m\u001b[0mdtype\u001b[0m\u001b[0;34m,\u001b[0m \u001b[0morder\u001b[0m\u001b[0;34m=\u001b[0m\u001b[0morder\u001b[0m\u001b[0;34m,\u001b[0m \u001b[0mcopy\u001b[0m\u001b[0;34m=\u001b[0m\u001b[0mcopy\u001b[0m\u001b[0;34m,\u001b[0m\u001b[0;34m\u001b[0m\u001b[0;34m\u001b[0m\u001b[0m\n",
      "\u001b[0;32m~/opt/anaconda3/lib/python3.9/site-packages/sklearn/utils/validation.py\u001b[0m in \u001b[0;36minner_f\u001b[0;34m(*args, **kwargs)\u001b[0m\n\u001b[1;32m     61\u001b[0m             \u001b[0mextra_args\u001b[0m \u001b[0;34m=\u001b[0m \u001b[0mlen\u001b[0m\u001b[0;34m(\u001b[0m\u001b[0margs\u001b[0m\u001b[0;34m)\u001b[0m \u001b[0;34m-\u001b[0m \u001b[0mlen\u001b[0m\u001b[0;34m(\u001b[0m\u001b[0mall_args\u001b[0m\u001b[0;34m)\u001b[0m\u001b[0;34m\u001b[0m\u001b[0;34m\u001b[0m\u001b[0m\n\u001b[1;32m     62\u001b[0m             \u001b[0;32mif\u001b[0m \u001b[0mextra_args\u001b[0m \u001b[0;34m<=\u001b[0m \u001b[0;36m0\u001b[0m\u001b[0;34m:\u001b[0m\u001b[0;34m\u001b[0m\u001b[0;34m\u001b[0m\u001b[0m\n\u001b[0;32m---> 63\u001b[0;31m                 \u001b[0;32mreturn\u001b[0m \u001b[0mf\u001b[0m\u001b[0;34m(\u001b[0m\u001b[0;34m*\u001b[0m\u001b[0margs\u001b[0m\u001b[0;34m,\u001b[0m \u001b[0;34m**\u001b[0m\u001b[0mkwargs\u001b[0m\u001b[0;34m)\u001b[0m\u001b[0;34m\u001b[0m\u001b[0;34m\u001b[0m\u001b[0m\n\u001b[0m\u001b[1;32m     64\u001b[0m \u001b[0;34m\u001b[0m\u001b[0m\n\u001b[1;32m     65\u001b[0m             \u001b[0;31m# extra_args > 0\u001b[0m\u001b[0;34m\u001b[0m\u001b[0;34m\u001b[0m\u001b[0m\n",
      "\u001b[0;32m~/opt/anaconda3/lib/python3.9/site-packages/sklearn/utils/validation.py\u001b[0m in \u001b[0;36mcheck_array\u001b[0;34m(array, accept_sparse, accept_large_sparse, dtype, order, copy, force_all_finite, ensure_2d, allow_nd, ensure_min_samples, ensure_min_features, estimator)\u001b[0m\n\u001b[1;32m    692\u001b[0m             \u001b[0;31m# If input is 1D raise error\u001b[0m\u001b[0;34m\u001b[0m\u001b[0;34m\u001b[0m\u001b[0m\n\u001b[1;32m    693\u001b[0m             \u001b[0;32mif\u001b[0m \u001b[0marray\u001b[0m\u001b[0;34m.\u001b[0m\u001b[0mndim\u001b[0m \u001b[0;34m==\u001b[0m \u001b[0;36m1\u001b[0m\u001b[0;34m:\u001b[0m\u001b[0;34m\u001b[0m\u001b[0;34m\u001b[0m\u001b[0m\n\u001b[0;32m--> 694\u001b[0;31m                 raise ValueError(\n\u001b[0m\u001b[1;32m    695\u001b[0m                     \u001b[0;34m\"Expected 2D array, got 1D array instead:\\narray={}.\\n\"\u001b[0m\u001b[0;34m\u001b[0m\u001b[0;34m\u001b[0m\u001b[0m\n\u001b[1;32m    696\u001b[0m                     \u001b[0;34m\"Reshape your data either using array.reshape(-1, 1) if \"\u001b[0m\u001b[0;34m\u001b[0m\u001b[0;34m\u001b[0m\u001b[0m\n",
      "\u001b[0;31mValueError\u001b[0m: Expected 2D array, got 1D array instead:\narray=[5.5  0.5  1.75 1.75 5.   4.25 4.75 2.75 1.5  3.   1.   2.25 2.5  4.5\n 3.25 3.5 ].\nReshape your data either using array.reshape(-1, 1) if your data has a single feature or array.reshape(1, -1) if it contains a single sample."
     ]
    }
   ],
   "source": [
    "# 第1步：导入线性回归\n",
    "from sklearn.linear_model import LinearRegression \n",
    "# 第2步：创建模型（线性回归）\n",
    "model = LinearRegression()\n",
    "# 第3步：训练模型\n",
    "model.fit(X_train, Y_train)"
   ]
  },
  {
   "cell_type": "code",
   "execution_count": 20,
   "id": "6f8f4838",
   "metadata": {},
   "outputs": [
    {
     "data": {
      "text/plain": [
       "(16,)"
      ]
     },
     "execution_count": 20,
     "metadata": {},
     "output_type": "execute_result"
    }
   ],
   "source": [
    "X_train.shape"
   ]
  },
  {
   "cell_type": "code",
   "execution_count": 21,
   "id": "00c71d15",
   "metadata": {},
   "outputs": [
    {
     "data": {
      "text/plain": [
       "(16,)"
      ]
     },
     "execution_count": 21,
     "metadata": {},
     "output_type": "execute_result"
    }
   ],
   "source": [
    "Y_train.shape"
   ]
  },
  {
   "cell_type": "markdown",
   "id": "0954bd10",
   "metadata": {},
   "source": [
    "sklearn要求输入的特征必须是二维数组的类型，但是因为我们目前只有1个特征，所以需要用安装错误提示用reshape转行成二维数组的类型。"
   ]
  },
  {
   "cell_type": "code",
   "execution_count": 27,
   "id": "7ca49355",
   "metadata": {},
   "outputs": [
    {
     "data": {
      "text/plain": [
       "(16, 1)"
      ]
     },
     "execution_count": 27,
     "metadata": {},
     "output_type": "execute_result"
    }
   ],
   "source": [
    "#将训练数据特征转换成二维数组XX行*1列\n",
    "X_train=X_train.reshape(-1,1)\n",
    "#将测试数据特征转换成二维数组行数*1列\n",
    "X_test=X_test.reshape(-1,1)"
   ]
  },
  {
   "cell_type": "code",
   "execution_count": 28,
   "id": "94843906",
   "metadata": {},
   "outputs": [
    {
     "data": {
      "text/plain": [
       "(16, 1)"
      ]
     },
     "execution_count": 28,
     "metadata": {},
     "output_type": "execute_result"
    }
   ],
   "source": [
    "X_train.shape"
   ]
  },
  {
   "cell_type": "code",
   "execution_count": 29,
   "id": "c57284ca",
   "metadata": {},
   "outputs": [
    {
     "data": {
      "text/plain": [
       "(16,)"
      ]
     },
     "execution_count": 29,
     "metadata": {},
     "output_type": "execute_result"
    }
   ],
   "source": [
    "Y_train.shape"
   ]
  },
  {
   "cell_type": "code",
   "execution_count": 30,
   "id": "785e581d",
   "metadata": {},
   "outputs": [
    {
     "data": {
      "text/plain": [
       "(4, 1)"
      ]
     },
     "execution_count": 30,
     "metadata": {},
     "output_type": "execute_result"
    }
   ],
   "source": [
    "X_test.shape"
   ]
  },
  {
   "cell_type": "code",
   "execution_count": 31,
   "id": "74bf409a",
   "metadata": {},
   "outputs": [
    {
     "data": {
      "text/plain": [
       "(4,)"
      ]
     },
     "execution_count": 31,
     "metadata": {},
     "output_type": "execute_result"
    }
   ],
   "source": [
    "Y_test.shape"
   ]
  },
  {
   "cell_type": "code",
   "execution_count": 32,
   "id": "50947729",
   "metadata": {},
   "outputs": [
    {
     "data": {
      "text/plain": [
       "LinearRegression()"
      ]
     },
     "execution_count": 32,
     "metadata": {},
     "output_type": "execute_result"
    }
   ],
   "source": [
    "#第1步：导入线性回归\n",
    "from sklearn.linear_model import LinearRegression\n",
    "# 第2步：创建模型：线性回归\n",
    "model = LinearRegression()\n",
    "#第3步：训练模型\n",
    "model.fit(X_train , Y_train)"
   ]
  },
  {
   "cell_type": "markdown",
   "id": "b513995e",
   "metadata": {},
   "source": [
    "#### 最佳拟合线：$y=𝑎+𝑏x$  \n",
    "a:截距intercept  \n",
    "b:回归系数  "
   ]
  },
  {
   "cell_type": "code",
   "execution_count": 33,
   "id": "52d7dd78",
   "metadata": {},
   "outputs": [
    {
     "name": "stdout",
     "output_type": "stream",
     "text": [
      "最佳拟合线：截距a= 3.9781282375964295 ，回归系数b= [17.05444918]\n"
     ]
    }
   ],
   "source": [
    "#截距\n",
    "a=model.intercept_\n",
    "#回归系数\n",
    "b=model.coef_\n",
    "\n",
    "print('最佳拟合线：截距a=',a,'，回归系数b=',b)"
   ]
  },
  {
   "cell_type": "markdown",
   "id": "d582488d",
   "metadata": {},
   "source": [
    "### 4.结果可视化"
   ]
  },
  {
   "cell_type": "code",
   "execution_count": 36,
   "id": "0aed5166",
   "metadata": {},
   "outputs": [
    {
     "data": {
      "image/png": "[encoded data removed]",
      "text/plain": [
       "<Figure size 432x288 with 1 Axes>"
      ]
     },
     "metadata": {
      "needs_background": "light"
     },
     "output_type": "display_data"
    }
   ],
   "source": [
    "import matplotlib.pyplot as plt\n",
    "# 绘制散点图\n",
    "plt.scatter(X_train, Y_train, color=\"blue\", label=\"train data\")\n",
    "\n",
    "# 训练数据的预测值\n",
    "Y_train_pred = model.predict(X_train)\n",
    "# 绘制最佳拟合曲线\n",
    "plt.plot(X_train, Y_train_pred, color=\"black\", linewidth=3, label=\"fit line\")\n",
    "\n",
    "# 添加图标标签\n",
    "plt.legend(loc=2)\n",
    "plt.xlabel(\"Hours\")\n",
    "plt.ylabel(\"Score\")\n",
    "\n",
    "plt.show()"
   ]
  },
  {
   "cell_type": "markdown",
   "id": "3fbc4136",
   "metadata": {},
   "source": [
    "### 5.模型评估（使用测试数据）\n",
    "线性回归的scroe方法得到的是决定系数R平方  \n",
    "score内部会对第一个参数X_test用拟合曲线自动计算出y预测值，内容是决定系数R平方的计算过程。所以我们只用根据他的要求输入参数即可。"
   ]
  },
  {
   "cell_type": "code",
   "execution_count": 38,
   "id": "def8e399",
   "metadata": {},
   "outputs": [
    {
     "data": {
      "text/plain": [
       "0.6870283252838295"
      ]
     },
     "execution_count": 38,
     "metadata": {},
     "output_type": "execute_result"
    }
   ],
   "source": [
    "model.score(X_test, Y_test)"
   ]
  },
  {
   "cell_type": "markdown",
   "id": "c16f7605",
   "metadata": {},
   "source": [
    "#### 可视化"
   ]
  },
  {
   "cell_type": "code",
   "execution_count": 39,
   "id": "c55e5b73",
   "metadata": {},
   "outputs": [
    {
     "data": {
      "image/png": "[encoded data removed]",
      "text/plain": [
       "<Figure size 432x288 with 1 Axes>"
      ]
     },
     "metadata": {
      "needs_background": "light"
     },
     "output_type": "display_data"
    }
   ],
   "source": [
    "\n",
    "\n",
    "'''\n",
    "第1步：绘制训练数据散点图\n",
    "'''\n",
    "plt.scatter(X_train, Y_train, color='blue', label=\"train data\")\n",
    "\n",
    "'''\n",
    "第2步：用训练数据绘制最佳线\n",
    "'''\n",
    "#最佳拟合线训练数据的预测值\n",
    "Y_train_pred = model.predict(X_train)\n",
    "#绘制最佳拟合线：标签用的是训练数据的预测值y_train_pred\n",
    "plt.plot(X_train, Y_train_pred, color='black', linewidth=3, label=\"best line\")\n",
    "\n",
    "'''\n",
    "第3步：绘制测试数据的散点图\n",
    "'''\n",
    "plt.scatter(X_test, Y_test, color='red', label=\"test data\")\n",
    "\n",
    "#添加图标标签\n",
    "plt.legend(loc=2)\n",
    "plt.xlabel(\"Hours\")\n",
    "plt.ylabel(\"Score\")\n",
    "#显示图像\n",
    "plt.show()"
   ]
  }
 ],
 "metadata": {
  "kernelspec": {
   "display_name": "Python 3 (ipykernel)",
   "language": "python",
   "name": "python3"
  },
  "language_info": {
   "codemirror_mode": {
    "name": "ipython",
    "version": 3
   },
   "file_extension": ".py",
   "mimetype": "text/x-python",
   "name": "python",
   "nbconvert_exporter": "python",
   "pygments_lexer": "ipython3",
   "version": "3.9.7"
  }
 },
 "nbformat": 4,
 "nbformat_minor": 5
}
